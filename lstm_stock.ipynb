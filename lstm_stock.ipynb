{
 "cells": [
  {
   "cell_type": "markdown",
   "metadata": {
    "toc": true
   },
   "source": [
    "<h1>Table of Contents<span class=\"tocSkip\"></span></h1>\n",
    "<div class=\"toc\"><ul class=\"toc-item\"><li><span><a href=\"#data-preprocessing\" data-toc-modified-id=\"data-preprocessing-1\"><span class=\"toc-item-num\">1&nbsp;&nbsp;</span>data preprocessing</a></span></li><li><span><a href=\"#baseline\" data-toc-modified-id=\"baseline-2\"><span class=\"toc-item-num\">2&nbsp;&nbsp;</span>baseline</a></span></li><li><span><a href=\"#fit-LSTM\" data-toc-modified-id=\"fit-LSTM-3\"><span class=\"toc-item-num\">3&nbsp;&nbsp;</span>fit LSTM</a></span><ul class=\"toc-item\"><li><span><a href=\"#lstm-model\" data-toc-modified-id=\"lstm-model-3.1\"><span class=\"toc-item-num\">3.1&nbsp;&nbsp;</span>lstm model</a></span></li><li><span><a href=\"#evaluation-functions\" data-toc-modified-id=\"evaluation-functions-3.2\"><span class=\"toc-item-num\">3.2&nbsp;&nbsp;</span>evaluation functions</a></span></li><li><span><a href=\"#baseline-result\" data-toc-modified-id=\"baseline-result-3.3\"><span class=\"toc-item-num\">3.3&nbsp;&nbsp;</span>baseline result</a></span></li><li><span><a href=\"#hyperpameter-tunning\" data-toc-modified-id=\"hyperpameter-tunning-3.4\"><span class=\"toc-item-num\">3.4&nbsp;&nbsp;</span>hyperpameter tunning</a></span></li><li><span><a href=\"#test-score\" data-toc-modified-id=\"test-score-3.5\"><span class=\"toc-item-num\">3.5&nbsp;&nbsp;</span>test score</a></span></li></ul></li></ul></div>"
   ]
  },
  {
   "cell_type": "code",
   "execution_count": 75,
   "metadata": {
    "ExecuteTime": {
     "end_time": "2019-12-13T22:17:19.076143Z",
     "start_time": "2019-12-13T22:17:19.069151Z"
    }
   },
   "outputs": [],
   "source": [
    "import numpy as np\n",
    "import pandas as pd\n",
    "import os\n",
    "from statsmodels.tsa.statespace.sarimax import SARIMAX\n",
    "from statsmodels.graphics.tsaplots import plot_acf,plot_pacf \n",
    "from statsmodels.tsa.seasonal import seasonal_decompose \n",
    "#from pmdarima import auto_arima                        \n",
    "from sklearn.metrics import mean_squared_error\n",
    "from statsmodels.tools.eval_measures import rmse\n",
    "import warnings\n",
    "warnings.filterwarnings(\"ignore\")\n",
    "import matplotlib.pyplot as plt\n",
    "from sklearn.preprocessing import MinMaxScaler\n",
    "from keras.models import Sequential\n",
    "from keras.layers import Dense, Dropout, LSTM\n",
    "%matplotlib inline"
   ]
  },
  {
   "cell_type": "code",
   "execution_count": 76,
   "metadata": {
    "ExecuteTime": {
     "end_time": "2019-12-13T22:17:19.477939Z",
     "start_time": "2019-12-13T22:17:19.465371Z"
    }
   },
   "outputs": [],
   "source": [
    "df_elec = pd.read_csv('data/time-series-datasets/Electric_Production.csv')\n",
    "df_stock = pd.read_csv('data/NSE-TATAGLOBAL11.csv')"
   ]
  },
  {
   "cell_type": "code",
   "execution_count": 78,
   "metadata": {
    "ExecuteTime": {
     "end_time": "2019-12-13T22:17:21.014941Z",
     "start_time": "2019-12-13T22:17:21.010551Z"
    }
   },
   "outputs": [],
   "source": [
    "#for normalizing data\n",
    "from sklearn.preprocessing import MinMaxScaler\n",
    "scaler = MinMaxScaler(feature_range=(0, 1))"
   ]
  },
  {
   "cell_type": "code",
   "execution_count": 79,
   "metadata": {
    "ExecuteTime": {
     "end_time": "2019-12-13T22:17:22.877044Z",
     "start_time": "2019-12-13T22:17:22.862058Z"
    }
   },
   "outputs": [
    {
     "name": "stdout",
     "output_type": "stream",
     "text": [
      "(1235, 8)\n"
     ]
    },
    {
     "data": {
      "text/html": [
       "<div>\n",
       "<style scoped>\n",
       "    .dataframe tbody tr th:only-of-type {\n",
       "        vertical-align: middle;\n",
       "    }\n",
       "\n",
       "    .dataframe tbody tr th {\n",
       "        vertical-align: top;\n",
       "    }\n",
       "\n",
       "    .dataframe thead th {\n",
       "        text-align: right;\n",
       "    }\n",
       "</style>\n",
       "<table border=\"1\" class=\"dataframe\">\n",
       "  <thead>\n",
       "    <tr style=\"text-align: right;\">\n",
       "      <th></th>\n",
       "      <th>Date</th>\n",
       "      <th>Open</th>\n",
       "      <th>High</th>\n",
       "      <th>Low</th>\n",
       "      <th>Last</th>\n",
       "      <th>Close</th>\n",
       "      <th>Total Trade Quantity</th>\n",
       "      <th>Turnover (Lacs)</th>\n",
       "    </tr>\n",
       "  </thead>\n",
       "  <tbody>\n",
       "    <tr>\n",
       "      <th>0</th>\n",
       "      <td>2018-10-08</td>\n",
       "      <td>208.00</td>\n",
       "      <td>222.25</td>\n",
       "      <td>206.85</td>\n",
       "      <td>216.00</td>\n",
       "      <td>215.15</td>\n",
       "      <td>4642146.0</td>\n",
       "      <td>10062.83</td>\n",
       "    </tr>\n",
       "    <tr>\n",
       "      <th>1</th>\n",
       "      <td>2018-10-05</td>\n",
       "      <td>217.00</td>\n",
       "      <td>218.60</td>\n",
       "      <td>205.90</td>\n",
       "      <td>210.25</td>\n",
       "      <td>209.20</td>\n",
       "      <td>3519515.0</td>\n",
       "      <td>7407.06</td>\n",
       "    </tr>\n",
       "    <tr>\n",
       "      <th>2</th>\n",
       "      <td>2018-10-04</td>\n",
       "      <td>223.50</td>\n",
       "      <td>227.80</td>\n",
       "      <td>216.15</td>\n",
       "      <td>217.25</td>\n",
       "      <td>218.20</td>\n",
       "      <td>1728786.0</td>\n",
       "      <td>3815.79</td>\n",
       "    </tr>\n",
       "    <tr>\n",
       "      <th>3</th>\n",
       "      <td>2018-10-03</td>\n",
       "      <td>230.00</td>\n",
       "      <td>237.50</td>\n",
       "      <td>225.75</td>\n",
       "      <td>226.45</td>\n",
       "      <td>227.60</td>\n",
       "      <td>1708590.0</td>\n",
       "      <td>3960.27</td>\n",
       "    </tr>\n",
       "    <tr>\n",
       "      <th>4</th>\n",
       "      <td>2018-10-01</td>\n",
       "      <td>234.55</td>\n",
       "      <td>234.60</td>\n",
       "      <td>221.05</td>\n",
       "      <td>230.30</td>\n",
       "      <td>230.90</td>\n",
       "      <td>1534749.0</td>\n",
       "      <td>3486.05</td>\n",
       "    </tr>\n",
       "  </tbody>\n",
       "</table>\n",
       "</div>"
      ],
      "text/plain": [
       "         Date    Open    High     Low    Last   Close  Total Trade Quantity  \\\n",
       "0  2018-10-08  208.00  222.25  206.85  216.00  215.15             4642146.0   \n",
       "1  2018-10-05  217.00  218.60  205.90  210.25  209.20             3519515.0   \n",
       "2  2018-10-04  223.50  227.80  216.15  217.25  218.20             1728786.0   \n",
       "3  2018-10-03  230.00  237.50  225.75  226.45  227.60             1708590.0   \n",
       "4  2018-10-01  234.55  234.60  221.05  230.30  230.90             1534749.0   \n",
       "\n",
       "   Turnover (Lacs)  \n",
       "0         10062.83  \n",
       "1          7407.06  \n",
       "2          3815.79  \n",
       "3          3960.27  \n",
       "4          3486.05  "
      ]
     },
     "execution_count": 79,
     "metadata": {},
     "output_type": "execute_result"
    }
   ],
   "source": [
    "print(df_stock.shape)\n",
    "df_stock.head()"
   ]
  },
  {
   "cell_type": "code",
   "execution_count": 83,
   "metadata": {
    "ExecuteTime": {
     "end_time": "2019-12-13T22:17:25.960605Z",
     "start_time": "2019-12-13T22:17:25.738665Z"
    }
   },
   "outputs": [
    {
     "data": {
      "text/plain": [
       "<matplotlib.legend.Legend at 0x16e489cf8>"
      ]
     },
     "execution_count": 83,
     "metadata": {},
     "output_type": "execute_result"
    },
    {
     "data": {
      "image/png": "[encoded data removed]",
      "text/plain": [
       "<Figure size 1152x576 with 1 Axes>"
      ]
     },
     "metadata": {
      "needs_background": "light"
     },
     "output_type": "display_data"
    }
   ],
   "source": [
    "#setting index as date\n",
    "df_stock['Date'] = pd.to_datetime(df_stock.Date,format='%Y-%m-%d')\n",
    "df_stock.index = df_stock['Date']\n",
    "\n",
    "#plot\n",
    "plt.figure(figsize=(16,8))\n",
    "plt.plot(df_stock['Open'], label='Open Price history')\n",
    "plt.title(\"Open Price vs. Date\")\n",
    "plt.ylabel(\"Open Price\")\n",
    "plt.xlabel(\"Date\")\n",
    "plt.legend()"
   ]
  },
  {
   "cell_type": "markdown",
   "metadata": {},
   "source": [
    "## data preprocessing"
   ]
  },
  {
   "cell_type": "code",
   "execution_count": 110,
   "metadata": {
    "ExecuteTime": {
     "end_time": "2019-12-13T22:35:08.852128Z",
     "start_time": "2019-12-13T22:35:08.554019Z"
    }
   },
   "outputs": [],
   "source": [
    "#reference:https://www.analyticsvidhya.com/blog/2018/10/predicting-stock-price-machine-learningnd-deep-learning-techniques-python/\n",
    "data = df_stock.sort_index(ascending=True, axis=0)\n",
    "new_data = pd.DataFrame(index=range(0,len(df_stock)),columns=['Date', 'Open'])\n",
    "for i in range(0,len(data)):\n",
    "    new_data['Date'][i] = data['Date'][i]\n",
    "    new_data['Open'][i] = data['Open'][i]\n",
    "\n",
    "#setting index\n",
    "new_data.index = new_data.Date\n",
    "new_data.drop('Date', axis=1, inplace=True)\n",
    "\n",
    "#creating train dev and test sets\n",
    "dataset = new_data.values\n",
    "\n",
    "train = dataset[0:987,:]\n",
    "valid = dataset[987:1111,:]\n",
    "test = dataset[1111:,:]\n",
    "\n",
    "#converting dataset into x_train and y_train\n",
    "scaler = MinMaxScaler(feature_range=(0, 1))\n",
    "scaled_data = scaler.fit_transform(dataset)\n",
    "\n",
    "x_train, y_train = [], []\n",
    "for i in range(60,len(train)):\n",
    "    x_train.append(scaled_data[i-60:i,0])\n",
    "    y_train.append(scaled_data[i,0])\n",
    "x_train, y_train = np.array(x_train), np.array(y_train)\n",
    "\n",
    "x_train = np.reshape(x_train, (x_train.shape[0],x_train.shape[1],1))\n"
   ]
  },
  {
   "cell_type": "markdown",
   "metadata": {},
   "source": [
    "## baseline"
   ]
  },
  {
   "cell_type": "code",
   "execution_count": null,
   "metadata": {},
   "outputs": [],
   "source": [
    "# create and fit the LSTM network\n",
    "model = Sequential()\n",
    "model.add(LSTM(units=50, return_sequences=True, input_shape=(x_train.shape[1],1)))\n",
    "model.add(LSTM(units=50))\n",
    "model.add(Dense(1))\n",
    "\n",
    "\n",
    "model.compile(loss='mean_squared_error', optimizer='adam')\n",
    "model.fit(x_train, y_train, epochs=1, batch_size=1, verbose=2)\n",
    "\n",
    "#predicting valid values, using past 60 from the train data\n",
    "inputs = new_data[len(new_data) - len(valid) - 60:].values\n",
    "inputs = inputs.reshape(-1,1)\n",
    "inputs  = scaler.transform(inputs)\n",
    "\n",
    "X_test = []\n",
    "for i in range(60,inputs.shape[0]):\n",
    "    X_test.append(inputs[i-60:i,0])\n",
    "X_test = np.array(X_test)\n",
    "\n",
    "X_test = np.reshape(X_test, (X_test.shape[0],X_test.shape[1],1))\n",
    "open_price = model.predict(X_test)\n",
    "open_price = scaler.inverse_transform(open_price)"
   ]
  },
  {
   "cell_type": "code",
   "execution_count": 54,
   "metadata": {
    "ExecuteTime": {
     "end_time": "2019-12-13T20:51:25.258241Z",
     "start_time": "2019-12-13T20:51:25.253062Z"
    }
   },
   "outputs": [
    {
     "name": "stdout",
     "output_type": "stream",
     "text": [
      "12.70119513402331\n",
      "0.07277530473956537\n"
     ]
    }
   ],
   "source": [
    "rmse=np.sqrt(np.mean(np.power((valid-open_price),2)))\n",
    "smape = np.mean(abs(open_price - valid) * 1.0 / (abs(open_price) + abs(valid)) * 2)\n",
    "print(rmse)\n",
    "print(smape)"
   ]
  },
  {
   "cell_type": "markdown",
   "metadata": {
    "ExecuteTime": {
     "end_time": "2019-11-27T16:25:37.235189Z",
     "start_time": "2019-11-27T16:25:36.682130Z"
    }
   },
   "source": [
    "## fit LSTM "
   ]
  },
  {
   "cell_type": "markdown",
   "metadata": {},
   "source": [
    "### lstm model"
   ]
  },
  {
   "cell_type": "code",
   "execution_count": 55,
   "metadata": {
    "ExecuteTime": {
     "end_time": "2019-12-13T21:23:50.727108Z",
     "start_time": "2019-12-13T21:23:50.718831Z"
    }
   },
   "outputs": [],
   "source": [
    "def lstm(x_train,y_train,num_units=50,dropout_rate=0):\n",
    "    model = Sequential()\n",
    "    model.add(LSTM(units=num_units, return_sequences=True, input_shape=(x_train.shape[1],1)))\n",
    "    model.add(Dropout(dropout_rate))\n",
    "    model.add(LSTM(units=num_units))\n",
    "    model.add(Dropout(dropout_rate))\n",
    "    model.add(Dense(1))\n",
    "    model.compile(loss='mean_squared_error', optimizer='adam')\n",
    "    model.fit(x_train, y_train, epochs=1, batch_size=1, verbose=2)\n",
    "    \n",
    "    X_test = []\n",
    "    for i in range(60,inputs.shape[0]):\n",
    "        X_test.append(inputs[i-60:i,0])\n",
    "    X_test = np.array(X_test)\n",
    "\n",
    "    X_test = np.reshape(X_test, (X_test.shape[0],X_test.shape[1],1))\n",
    "    open_price = model.predict(X_test)\n",
    "    open_price = scaler.inverse_transform(open_price)\n",
    "    return open_price"
   ]
  },
  {
   "cell_type": "markdown",
   "metadata": {},
   "source": [
    "### evaluation functions"
   ]
  },
  {
   "cell_type": "code",
   "execution_count": 95,
   "metadata": {
    "ExecuteTime": {
     "end_time": "2019-12-13T22:24:45.100258Z",
     "start_time": "2019-12-13T22:24:45.094990Z"
    }
   },
   "outputs": [],
   "source": [
    "def eval_fc(pred,valid):\n",
    "    rmse=np.sqrt(np.mean(np.power((valid-pred),2)))\n",
    "    smape = np.mean(abs(pred - valid) * 1.0 / (abs(pred) + abs(valid)) * 2)\n",
    "    return smape,rmse"
   ]
  },
  {
   "cell_type": "markdown",
   "metadata": {},
   "source": [
    "### hyperpameter tunning"
   ]
  },
  {
   "cell_type": "code",
   "execution_count": 56,
   "metadata": {
    "ExecuteTime": {
     "end_time": "2019-12-13T21:24:08.800454Z",
     "start_time": "2019-12-13T21:24:08.797272Z"
    }
   },
   "outputs": [],
   "source": [
    "# parameters\n",
    "hidden_size = [64,128,256,512]\n",
    "dropout_rates = [0.1,0.2,0.3]"
   ]
  },
  {
   "cell_type": "code",
   "execution_count": 57,
   "metadata": {
    "ExecuteTime": {
     "end_time": "2019-12-13T21:47:04.773959Z",
     "start_time": "2019-12-13T21:24:09.356117Z"
    }
   },
   "outputs": [
    {
     "name": "stdout",
     "output_type": "stream",
     "text": [
      "Epoch 1/1\n",
      " - 71s - loss: 0.0054\n",
      "{(64, 0.1): (0.06303164540463375, 11.828477640848897)}\n",
      "Epoch 1/1\n",
      " - 73s - loss: 0.0054\n",
      "{(64, 0.1): (0.06303164540463375, 11.828477640848897), (64, 0.2): (0.056358258743088335, 11.555184219399294)}\n",
      "Epoch 1/1\n",
      " - 73s - loss: 0.0083\n",
      "{(64, 0.1): (0.06303164540463375, 11.828477640848897), (64, 0.2): (0.056358258743088335, 11.555184219399294), (64, 0.3): (0.08647291796924189, 14.788203996626308)}\n",
      "Epoch 1/1\n",
      " - 78s - loss: 0.0040\n",
      "{(64, 0.1): (0.06303164540463375, 11.828477640848897), (64, 0.2): (0.056358258743088335, 11.555184219399294), (64, 0.3): (0.08647291796924189, 14.788203996626308), (128, 0.1): (0.06831732705776405, 12.232339933031408)}\n",
      "Epoch 1/1\n",
      " - 82s - loss: 0.0062\n",
      "{(64, 0.1): (0.06303164540463375, 11.828477640848897), (64, 0.2): (0.056358258743088335, 11.555184219399294), (64, 0.3): (0.08647291796924189, 14.788203996626308), (128, 0.1): (0.06831732705776405, 12.232339933031408), (128, 0.2): (0.051522374038277426, 10.487144394423243)}\n",
      "Epoch 1/1\n",
      " - 107s - loss: 0.0054\n",
      "{(64, 0.1): (0.06303164540463375, 11.828477640848897), (64, 0.2): (0.056358258743088335, 11.555184219399294), (64, 0.3): (0.08647291796924189, 14.788203996626308), (128, 0.1): (0.06831732705776405, 12.232339933031408), (128, 0.2): (0.051522374038277426, 10.487144394423243), (128, 0.3): (0.0693727430112038, 12.440686212568409)}\n",
      "Epoch 1/1\n",
      " - 109s - loss: 0.0042\n",
      "{(64, 0.1): (0.06303164540463375, 11.828477640848897), (64, 0.2): (0.056358258743088335, 11.555184219399294), (64, 0.3): (0.08647291796924189, 14.788203996626308), (128, 0.1): (0.06831732705776405, 12.232339933031408), (128, 0.2): (0.051522374038277426, 10.487144394423243), (128, 0.3): (0.0693727430112038, 12.440686212568409), (256, 0.1): (0.08817788364745155, 15.133907001344765)}\n",
      "Epoch 1/1\n",
      " - 90s - loss: 0.0064\n",
      "{(64, 0.1): (0.06303164540463375, 11.828477640848897), (64, 0.2): (0.056358258743088335, 11.555184219399294), (64, 0.3): (0.08647291796924189, 14.788203996626308), (128, 0.1): (0.06831732705776405, 12.232339933031408), (128, 0.2): (0.051522374038277426, 10.487144394423243), (128, 0.3): (0.0693727430112038, 12.440686212568409), (256, 0.1): (0.08817788364745155, 15.133907001344765), (256, 0.2): (0.07965521484783197, 13.837444202182287)}\n",
      "Epoch 1/1\n",
      " - 90s - loss: 0.0061\n",
      "{(64, 0.1): (0.06303164540463375, 11.828477640848897), (64, 0.2): (0.056358258743088335, 11.555184219399294), (64, 0.3): (0.08647291796924189, 14.788203996626308), (128, 0.1): (0.06831732705776405, 12.232339933031408), (128, 0.2): (0.051522374038277426, 10.487144394423243), (128, 0.3): (0.0693727430112038, 12.440686212568409), (256, 0.1): (0.08817788364745155, 15.133907001344765), (256, 0.2): (0.07965521484783197, 13.837444202182287), (256, 0.3): (0.053170782283031744, 11.714067686899835)}\n",
      "Epoch 1/1\n",
      " - 194s - loss: 0.0054\n",
      "{(64, 0.1): (0.06303164540463375, 11.828477640848897), (64, 0.2): (0.056358258743088335, 11.555184219399294), (64, 0.3): (0.08647291796924189, 14.788203996626308), (128, 0.1): (0.06831732705776405, 12.232339933031408), (128, 0.2): (0.051522374038277426, 10.487144394423243), (128, 0.3): (0.0693727430112038, 12.440686212568409), (256, 0.1): (0.08817788364745155, 15.133907001344765), (256, 0.2): (0.07965521484783197, 13.837444202182287), (256, 0.3): (0.053170782283031744, 11.714067686899835), (512, 0.1): (0.09093835852006414, 15.597605140252877)}\n",
      "Epoch 1/1\n",
      " - 174s - loss: 0.0091\n",
      "{(64, 0.1): (0.06303164540463375, 11.828477640848897), (64, 0.2): (0.056358258743088335, 11.555184219399294), (64, 0.3): (0.08647291796924189, 14.788203996626308), (128, 0.1): (0.06831732705776405, 12.232339933031408), (128, 0.2): (0.051522374038277426, 10.487144394423243), (128, 0.3): (0.0693727430112038, 12.440686212568409), (256, 0.1): (0.08817788364745155, 15.133907001344765), (256, 0.2): (0.07965521484783197, 13.837444202182287), (256, 0.3): (0.053170782283031744, 11.714067686899835), (512, 0.1): (0.09093835852006414, 15.597605140252877), (512, 0.2): (0.09489799178431282, 16.271484067750585)}\n",
      "Epoch 1/1\n",
      " - 198s - loss: 0.0085\n",
      "{(64, 0.1): (0.06303164540463375, 11.828477640848897), (64, 0.2): (0.056358258743088335, 11.555184219399294), (64, 0.3): (0.08647291796924189, 14.788203996626308), (128, 0.1): (0.06831732705776405, 12.232339933031408), (128, 0.2): (0.051522374038277426, 10.487144394423243), (128, 0.3): (0.0693727430112038, 12.440686212568409), (256, 0.1): (0.08817788364745155, 15.133907001344765), (256, 0.2): (0.07965521484783197, 13.837444202182287), (256, 0.3): (0.053170782283031744, 11.714067686899835), (512, 0.1): (0.09093835852006414, 15.597605140252877), (512, 0.2): (0.09489799178431282, 16.271484067750585), (512, 0.3): (0.09005612402455489, 15.638269845726196)}\n"
     ]
    }
   ],
   "source": [
    "res_dic={}\n",
    "for num_units in hidden_size:\n",
    "    for dropout_rate in dropout_rates:\n",
    "        open_price=lstm(x_train,y_train,num_units,dropout_rate)\n",
    "        res=eval_fc(open_price,valid)\n",
    "        res_dic[num_units,dropout_rate]=res\n",
    "        print(res_dic)\n",
    "        "
   ]
  },
  {
   "cell_type": "code",
   "execution_count": 58,
   "metadata": {
    "ExecuteTime": {
     "end_time": "2019-12-13T21:47:04.782995Z",
     "start_time": "2019-12-13T21:47:04.776925Z"
    }
   },
   "outputs": [
    {
     "data": {
      "text/plain": [
       "{(64, 0.1): (0.06303164540463375, 11.828477640848897),\n",
       " (64, 0.2): (0.056358258743088335, 11.555184219399294),\n",
       " (64, 0.3): (0.08647291796924189, 14.788203996626308),\n",
       " (128, 0.1): (0.06831732705776405, 12.232339933031408),\n",
       " (128, 0.2): (0.051522374038277426, 10.487144394423243),\n",
       " (128, 0.3): (0.0693727430112038, 12.440686212568409),\n",
       " (256, 0.1): (0.08817788364745155, 15.133907001344765),\n",
       " (256, 0.2): (0.07965521484783197, 13.837444202182287),\n",
       " (256, 0.3): (0.053170782283031744, 11.714067686899835),\n",
       " (512, 0.1): (0.09093835852006414, 15.597605140252877),\n",
       " (512, 0.2): (0.09489799178431282, 16.271484067750585),\n",
       " (512, 0.3): (0.09005612402455489, 15.638269845726196)}"
      ]
     },
     "execution_count": 58,
     "metadata": {},
     "output_type": "execute_result"
    }
   ],
   "source": [
    "res_dic"
   ]
  },
  {
   "cell_type": "code",
   "execution_count": 60,
   "metadata": {
    "ExecuteTime": {
     "end_time": "2019-12-13T21:47:22.281712Z",
     "start_time": "2019-12-13T21:47:22.259457Z"
    }
   },
   "outputs": [
    {
     "data": {
      "text/html": [
       "<div>\n",
       "<style scoped>\n",
       "    .dataframe tbody tr th:only-of-type {\n",
       "        vertical-align: middle;\n",
       "    }\n",
       "\n",
       "    .dataframe tbody tr th {\n",
       "        vertical-align: top;\n",
       "    }\n",
       "\n",
       "    .dataframe thead th {\n",
       "        text-align: right;\n",
       "    }\n",
       "</style>\n",
       "<table border=\"1\" class=\"dataframe\">\n",
       "  <thead>\n",
       "    <tr style=\"text-align: right;\">\n",
       "      <th></th>\n",
       "      <th></th>\n",
       "      <th>smape</th>\n",
       "      <th>rmse</th>\n",
       "    </tr>\n",
       "  </thead>\n",
       "  <tbody>\n",
       "    <tr>\n",
       "      <th rowspan=\"3\" valign=\"top\">64</th>\n",
       "      <th>0.1</th>\n",
       "      <td>0.063032</td>\n",
       "      <td>11.828478</td>\n",
       "    </tr>\n",
       "    <tr>\n",
       "      <th>0.2</th>\n",
       "      <td>0.056358</td>\n",
       "      <td>11.555184</td>\n",
       "    </tr>\n",
       "    <tr>\n",
       "      <th>0.3</th>\n",
       "      <td>0.086473</td>\n",
       "      <td>14.788204</td>\n",
       "    </tr>\n",
       "    <tr>\n",
       "      <th rowspan=\"3\" valign=\"top\">128</th>\n",
       "      <th>0.1</th>\n",
       "      <td>0.068317</td>\n",
       "      <td>12.232340</td>\n",
       "    </tr>\n",
       "    <tr>\n",
       "      <th>0.2</th>\n",
       "      <td>0.051522</td>\n",
       "      <td>10.487144</td>\n",
       "    </tr>\n",
       "    <tr>\n",
       "      <th>0.3</th>\n",
       "      <td>0.069373</td>\n",
       "      <td>12.440686</td>\n",
       "    </tr>\n",
       "    <tr>\n",
       "      <th rowspan=\"3\" valign=\"top\">256</th>\n",
       "      <th>0.1</th>\n",
       "      <td>0.088178</td>\n",
       "      <td>15.133907</td>\n",
       "    </tr>\n",
       "    <tr>\n",
       "      <th>0.2</th>\n",
       "      <td>0.079655</td>\n",
       "      <td>13.837444</td>\n",
       "    </tr>\n",
       "    <tr>\n",
       "      <th>0.3</th>\n",
       "      <td>0.053171</td>\n",
       "      <td>11.714068</td>\n",
       "    </tr>\n",
       "    <tr>\n",
       "      <th rowspan=\"3\" valign=\"top\">512</th>\n",
       "      <th>0.1</th>\n",
       "      <td>0.090938</td>\n",
       "      <td>15.597605</td>\n",
       "    </tr>\n",
       "    <tr>\n",
       "      <th>0.2</th>\n",
       "      <td>0.094898</td>\n",
       "      <td>16.271484</td>\n",
       "    </tr>\n",
       "    <tr>\n",
       "      <th>0.3</th>\n",
       "      <td>0.090056</td>\n",
       "      <td>15.638270</td>\n",
       "    </tr>\n",
       "  </tbody>\n",
       "</table>\n",
       "</div>"
      ],
      "text/plain": [
       "            smape       rmse\n",
       "64  0.1  0.063032  11.828478\n",
       "    0.2  0.056358  11.555184\n",
       "    0.3  0.086473  14.788204\n",
       "128 0.1  0.068317  12.232340\n",
       "    0.2  0.051522  10.487144\n",
       "    0.3  0.069373  12.440686\n",
       "256 0.1  0.088178  15.133907\n",
       "    0.2  0.079655  13.837444\n",
       "    0.3  0.053171  11.714068\n",
       "512 0.1  0.090938  15.597605\n",
       "    0.2  0.094898  16.271484\n",
       "    0.3  0.090056  15.638270"
      ]
     },
     "execution_count": 60,
     "metadata": {},
     "output_type": "execute_result"
    }
   ],
   "source": [
    "df_res = pd.DataFrame(res_dic,index=['smape','rmse'])\n",
    "df_res=df_res.T\n",
    "df_res"
   ]
  },
  {
   "cell_type": "markdown",
   "metadata": {},
   "source": [
    "The best hyperparameter setting: hidden_size = 128, dropout_rate = 0.2"
   ]
  },
  {
   "cell_type": "markdown",
   "metadata": {},
   "source": [
    "### test score"
   ]
  },
  {
   "cell_type": "code",
   "execution_count": 108,
   "metadata": {
    "ExecuteTime": {
     "end_time": "2019-12-13T22:34:58.391007Z",
     "start_time": "2019-12-13T22:33:35.341854Z"
    }
   },
   "outputs": [
    {
     "name": "stdout",
     "output_type": "stream",
     "text": [
      "Epoch 1/1\n",
      " - 80s - loss: 0.0013\n"
     ]
    },
    {
     "data": {
      "text/plain": [
       "(Open           0.063374\n",
       " Predictions    0.008340\n",
       " dtype: float64, Open           17.408399\n",
       " Predictions     2.496570\n",
       " dtype: float64)"
      ]
     },
     "execution_count": 108,
     "metadata": {},
     "output_type": "execute_result"
    }
   ],
   "source": [
    "model = Sequential()\n",
    "model.add(LSTM(units=128, return_sequences=True, input_shape=(x_train.shape[1],1)))\n",
    "model.add(Dropout(0.2))\n",
    "model.add(LSTM(units=128))\n",
    "model.add(Dropout(0.2))\n",
    "model.add(Dense(1))\n",
    "model.compile(loss='mean_squared_error', optimizer='adam')\n",
    "model.fit(x_train, y_train, epochs=1, batch_size=1, verbose=2)\n",
    "    \n",
    "inputs = new_data[len(new_data) - len(test) - 60:].values\n",
    "inputs = inputs.reshape(-1,1)\n",
    "inputs  = scaler.transform(inputs)\n",
    "    \n",
    "    \n",
    "X_test = []\n",
    "for i in range(60,inputs.shape[0]):\n",
    "    X_test.append(inputs[i-60:i,0])\n",
    "X_test = np.array(X_test)\n",
    "\n",
    "X_test = np.reshape(X_test, (X_test.shape[0],X_test.shape[1],1))\n",
    "open_price = model.predict(X_test)\n",
    "open_price = scaler.inverse_transform(open_price)\n"
   ]
  },
  {
   "cell_type": "code",
   "execution_count": 111,
   "metadata": {
    "ExecuteTime": {
     "end_time": "2019-12-13T22:35:16.909614Z",
     "start_time": "2019-12-13T22:35:16.905201Z"
    }
   },
   "outputs": [
    {
     "data": {
      "text/plain": [
       "(0.06337439864655942, 17.408398803222177)"
      ]
     },
     "execution_count": 111,
     "metadata": {},
     "output_type": "execute_result"
    }
   ],
   "source": [
    "eval_fc(open_price,test)"
   ]
  },
  {
   "cell_type": "code",
   "execution_count": 121,
   "metadata": {
    "ExecuteTime": {
     "end_time": "2019-12-15T01:32:18.997087Z",
     "start_time": "2019-12-15T01:32:18.990935Z"
    },
    "scrolled": false
   },
   "outputs": [
    {
     "data": {
      "text/plain": [
       "array([255.51094, 257.12762, 257.78076, 257.53683, 257.0346 , 256.53952,\n",
       "       257.67908, 259.2159 , 261.2907 , 263.1022 , 264.76752, 265.11542,\n",
       "       264.92914, 266.38483, 268.28268, 270.03384, 272.02985, 272.78314,\n",
       "       271.84744, 270.84116, 271.3854 , 271.1332 , 271.32117, 269.97644,\n",
       "       267.55063, 260.76288, 250.7748 , 242.38953, 237.23148, 233.57726,\n",
       "       231.2719 , 230.43771, 231.17969, 232.57698, 234.39697, 236.49174,\n",
       "       237.5907 , 240.554  , 244.05704, 246.12387, 245.42525, 245.24019,\n",
       "       246.0364 , 246.41615, 246.93927, 246.8562 , 247.38315, 248.54245,\n",
       "       251.46852, 252.95586, 254.21684, 253.01894, 250.12547, 247.19049,\n",
       "       245.26962, 245.02158, 245.50339, 245.76675, 245.84499, 247.41226,\n",
       "       247.93864, 251.13364, 253.90826, 254.5017 , 253.88507, 254.39806,\n",
       "       254.98087, 254.6405 , 253.01877, 249.93028, 243.87267, 239.32579,\n",
       "       234.62286, 229.30074, 226.3237 , 225.7945 , 227.15242, 226.56291,\n",
       "       226.35904, 226.82365, 227.3788 , 228.85225, 227.2926 , 225.62343,\n",
       "       224.07802, 224.00743, 223.79308, 223.47476, 223.30681, 222.4207 ,\n",
       "       221.83614, 221.6773 , 222.60553, 224.3435 , 226.56511, 227.25035,\n",
       "       226.13606, 224.07628, 223.067  , 222.0603 , 221.564  , 221.67322,\n",
       "       221.80046, 222.32654, 219.84596, 217.1663 , 214.39217, 212.45218,\n",
       "       211.23526, 209.40808, 209.07248, 211.17297, 214.64204, 217.53453,\n",
       "       219.42395, 220.25601, 220.46039, 221.63695, 221.89091, 221.66711,\n",
       "       221.40042, 220.31711, 217.94707, 214.38611], dtype=float32)"
      ]
     },
     "execution_count": 121,
     "metadata": {},
     "output_type": "execute_result"
    }
   ],
   "source": [
    "open_price.reshape(-1)"
   ]
  },
  {
   "cell_type": "code",
   "execution_count": 122,
   "metadata": {
    "ExecuteTime": {
     "end_time": "2019-12-15T01:33:54.695791Z",
     "start_time": "2019-12-15T01:33:54.691879Z"
    }
   },
   "outputs": [],
   "source": [
    "np.save('lstm_stock',open_price)"
   ]
  },
  {
   "cell_type": "code",
   "execution_count": 123,
   "metadata": {
    "ExecuteTime": {
     "end_time": "2019-12-15T02:00:52.912588Z",
     "start_time": "2019-12-15T02:00:50.936118Z"
    }
   },
   "outputs": [
    {
     "data": {
      "image/png": "[encoded data removed]",
      "text/plain": [
       "<Figure size 1080x360 with 1 Axes>"
      ]
     },
     "metadata": {
      "needs_background": "light"
     },
     "output_type": "display_data"
    },
    {
     "data": {
      "text/plain": [
       "<Figure size 1440x720 with 0 Axes>"
      ]
     },
     "metadata": {},
     "output_type": "display_data"
    }
   ],
   "source": [
    "# best plot\n",
    "plt.figure(figsize = (15,5))\n",
    "train = new_data[:987]\n",
    "valid = new_data[987:1111]\n",
    "test = new_data[1111:]\n",
    "test['Predictions'] = open_price\n",
    "# plt.plot(train['Open'])\n",
    "# plt.plot(valid[['Open','Predictions']])\n",
    "plt.plot(train.Open,label='train')\n",
    "plt.plot(valid.Open,label='valid')\n",
    "plt.plot(test.Open,label='test')\n",
    "plt.plot(test.Predictions)\n",
    "plt.title('Stock Price Prediction -- LSTM')\n",
    "plt.xlabel('Time')\n",
    "plt.ylabel('Stock Price')\n",
    "plt.legend()\n",
    "plt.show()\n",
    "plt.savefig('stock_lstm')"
   ]
  }
 ],
 "metadata": {
  "kernelspec": {
   "display_name": "Python 3",
   "language": "python",
   "name": "python3"
  },
  "language_info": {
   "codemirror_mode": {
    "name": "ipython",
    "version": 3
   },
   "file_extension": ".py",
   "mimetype": "text/x-python",
   "name": "python",
   "nbconvert_exporter": "python",
   "pygments_lexer": "ipython3",
   "version": "3.6.8"
  },
  "toc": {
   "base_numbering": 1,
   "nav_menu": {},
   "number_sections": true,
   "sideBar": true,
   "skip_h1_title": false,
   "title_cell": "Table of Contents",
   "title_sidebar": "Contents",
   "toc_cell": true,
   "toc_position": {},
   "toc_section_display": true,
   "toc_window_display": false
  }
 },
 "nbformat": 4,
 "nbformat_minor": 2
}
